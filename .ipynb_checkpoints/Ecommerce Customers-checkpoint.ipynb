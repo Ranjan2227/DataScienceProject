{
 "cells": [
  {
   "cell_type": "markdown",
   "id": "1ce2e5b9",
   "metadata": {},
   "source": [
    "Importing Libraries"
   ]
  },
  {
   "cell_type": "markdown",
   "id": "3b58ad89",
   "metadata": {},
   "source": [
    "# Get the Data"
   ]
  },
  {
   "cell_type": "markdown",
   "id": "e13b727b",
   "metadata": {},
   "source": [
    "We'll work with the Ecommerce Customers csv file from the company. It has Customer info, such as Email, Address, and their color Avatar. Then it also has numerical value columns:\n",
    "\n",
    "Avg. Session Length: Average session of in-store style advice sessions.\n",
    "Time on App: Average time spent on App in minutes\n",
    "Time on Website: Average time spent on Website in minutes\n",
    "Length of Membership: How many years the customer has been a member."
   ]
  },
  {
   "cell_type": "code",
   "execution_count": 4,
   "id": "538eaa33",
   "metadata": {},
   "outputs": [],
   "source": [
    "import numpy as np\n",
    "import pandas as pd\n",
    "import matplotlib.pyplot as plt\n",
    "%matplotlib inline"
   ]
  },
  {
   "cell_type": "code",
   "execution_count": 6,
   "id": "ad0bad99",
   "metadata": {},
   "outputs": [],
   "source": [
    "customer = pd.read_csv(r'C:\\Users\\RBC\\Desktop\\Data science\\excel\\Ecommerce Customers.csv')"
   ]
  },
  {
   "cell_type": "code",
   "execution_count": null,
   "id": "321229e8",
   "metadata": {},
   "outputs": [],
   "source": []
  }
 ],
 "metadata": {
  "kernelspec": {
   "display_name": "Python 3 (ipykernel)",
   "language": "python",
   "name": "python3"
  },
  "language_info": {
   "codemirror_mode": {
    "name": "ipython",
    "version": 3
   },
   "file_extension": ".py",
   "mimetype": "text/x-python",
   "name": "python",
   "nbconvert_exporter": "python",
   "pygments_lexer": "ipython3",
   "version": "3.9.7"
  }
 },
 "nbformat": 4,
 "nbformat_minor": 5
}
